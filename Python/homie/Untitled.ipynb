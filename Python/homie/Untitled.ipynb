{
 "cells": [
  {
   "cell_type": "code",
   "execution_count": 1,
   "metadata": {},
   "outputs": [
    {
     "name": "stdout",
     "output_type": "stream",
     "text": [
      "Introduzca una letra: f\n",
      "A\n",
      "B\n",
      "C\n",
      "D\n",
      "E\n",
      "F\n"
     ]
    }
   ],
   "source": [
    "import numpy as np\n",
    "import string\n",
    "\n",
    "def matriz(*args):\n",
    "    Mz = np.zeros((args[0],args[1]))\n",
    "    print()\n",
    "\n",
    "def main():\n",
    "    list_letra = list(string.ascii_uppercase[:]) #lista de letras\n",
    "    let = input(\"Introduzca una letra: \") #pedir la letra\n",
    "    index_letra = list_letra.index(let.upper()) #obtener le indice de la letra\n",
    "    for i in range(0, index_letra + 1 ):\n",
    "        print (list_letra[i])\n",
    "    matriz\n",
    "\n",
    "if __name__ == '__main__':\n",
    "    main()"
   ]
  },
  {
   "cell_type": "code",
   "execution_count": null,
   "metadata": {},
   "outputs": [],
   "source": []
  }
 ],
 "metadata": {
  "kernelspec": {
   "display_name": "Python 3",
   "language": "python",
   "name": "python3"
  },
  "language_info": {
   "codemirror_mode": {
    "name": "ipython",
    "version": 3
   },
   "file_extension": ".py",
   "mimetype": "text/x-python",
   "name": "python",
   "nbconvert_exporter": "python",
   "pygments_lexer": "ipython3",
   "version": "3.6.4"
  }
 },
 "nbformat": 4,
 "nbformat_minor": 2
}
